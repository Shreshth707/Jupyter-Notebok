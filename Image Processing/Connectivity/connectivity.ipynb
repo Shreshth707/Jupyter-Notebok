{
 "cells": [
  {
   "cell_type": "code",
   "execution_count": 4,
   "metadata": {},
   "outputs": [],
   "source": [
    "import numpy as np"
   ]
  },
  {
   "cell_type": "code",
   "execution_count": 5,
   "metadata": {},
   "outputs": [],
   "source": [
    "V = {0,1}\n",
    "img = np.array([[3,1,2,1],\n",
    "               [2,2,0,2],\n",
    "               [1,2,1,1],\n",
    "               [1,0,1,2]])"
   ]
  },
  {
   "cell_type": "code",
   "execution_count": 16,
   "metadata": {},
   "outputs": [
    {
     "name": "stdout",
     "output_type": "stream",
     "text": [
      "3\n"
     ]
    }
   ],
   "source": [
    "# N4 Neighbor Connectivity\n",
    "visited = set()\n",
    "\n",
    "def traverse(i,j):\n",
    "    visited.add((i,j))\n",
    "    if i!=0:\n",
    "        if img[i-1][j] in V and (i-1,j) not in visited:\n",
    "            traverse(i-1,j)\n",
    "    if i!=img.shape[0]-1:\n",
    "        if img[i+1][j] in V and (i+1,j) not in visited:\n",
    "            traverse(i+1,j)\n",
    "    if j!=0:\n",
    "        if img[i][j-1] in V and (i,j-1) not in visited:\n",
    "            traverse(i,j-1)\n",
    "    if j!=img.shape[1]-1:\n",
    "        if img[i][j+1] in V and (i,j+1) not in visited:\n",
    "            traverse(i,j+1)\n",
    "    \n",
    "regions = 0    \n",
    "for i in range(img.shape[0]):\n",
    "    for j in range(img.shape[1]):\n",
    "        if img[i][j] in V and (i,j) not in visited:\n",
    "            traverse(i,j)\n",
    "            regions += 1\n",
    "                \n",
    "print(regions)"
   ]
  },
  {
   "cell_type": "code",
   "execution_count": 17,
   "metadata": {},
   "outputs": [
    {
     "name": "stdout",
     "output_type": "stream",
     "text": [
      "1\n"
     ]
    }
   ],
   "source": [
    "# N8 Neighbor Connectivity\n",
    "visited = set()\n",
    "\n",
    "def traverse(i,j):\n",
    "    visited.add((i,j))\n",
    "    if i!=0:\n",
    "        if img[i-1][j] in V and (i-1,j) not in visited:\n",
    "            traverse(i-1,j)\n",
    "    if i!=img.shape[0]-1:\n",
    "        if img[i+1][j] in V and (i+1,j) not in visited:\n",
    "            traverse(i+1,j)\n",
    "    if j!=0:\n",
    "        if img[i][j-1] in V and (i,j-1) not in visited:\n",
    "            traverse(i,j-1)\n",
    "    if j!=img.shape[1]-1:\n",
    "        if img[i][j+1] in V and (i,j+1) not in visited:\n",
    "            traverse(i,j+1)\n",
    "    if i!=0 and j!=0 :\n",
    "        if img[i-1][j-1] in V and (i-1,j-1) not in visited:\n",
    "            traverse(i-1,j-1)\n",
    "    if i!=0 and j!=img.shape[1]-1 :\n",
    "        if img[i-1][j+1] in V and (i-1,j+1) not in visited:\n",
    "            traverse(i-1,j+1)\n",
    "    if i!=img.shape[0]-1 and j!=0 :\n",
    "        if img[i+1][j-1] in V and (i+1,j-1) not in visited:\n",
    "            traverse(i+1,j-1)\n",
    "    if i!=img.shape[0]-1 and j!=img.shape[1]-1:\n",
    "        if img[i+1][j+1] in V and (i+1,j+1) not in visited:\n",
    "            traverse(i+1,j+1)\n",
    "            \n",
    "regions = 0    \n",
    "for i in range(img.shape[0]):\n",
    "    for j in range(img.shape[1]):\n",
    "        if img[i][j] in V and (i,j) not in visited:\n",
    "            traverse(i,j)\n",
    "            regions += 1\n",
    "                \n",
    "print(regions) "
   ]
  },
  {
   "cell_type": "code",
   "execution_count": null,
   "metadata": {},
   "outputs": [],
   "source": []
  }
 ],
 "metadata": {
  "kernelspec": {
   "display_name": "Python 3",
   "language": "python",
   "name": "python3"
  },
  "language_info": {
   "codemirror_mode": {
    "name": "ipython",
    "version": 3
   },
   "file_extension": ".py",
   "mimetype": "text/x-python",
   "name": "python",
   "nbconvert_exporter": "python",
   "pygments_lexer": "ipython3",
   "version": "3.8.5"
  }
 },
 "nbformat": 4,
 "nbformat_minor": 4
}
