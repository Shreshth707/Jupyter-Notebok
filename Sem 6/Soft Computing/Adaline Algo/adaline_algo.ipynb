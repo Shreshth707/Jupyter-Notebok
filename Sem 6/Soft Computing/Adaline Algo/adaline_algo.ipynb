{
 "cells": [
  {
   "cell_type": "code",
   "execution_count": 4,
   "metadata": {},
   "outputs": [],
   "source": [
    "import numpy as np"
   ]
  },
  {
   "cell_type": "code",
   "execution_count": 66,
   "metadata": {},
   "outputs": [
    {
     "name": "stdout",
     "output_type": "stream",
     "text": [
      "Inputs :  [[ 1  1  1  1  1 -1 -1  1  1  1]\n",
      " [ 1  1  1  1  1 -1  1  1  1  1]]\n",
      "Required Output :  [-1  1]\n"
     ]
    }
   ],
   "source": [
    "training_data = np.array([\n",
    "    [1,1,1,1,1,-1,-1,1,1,1,-1],\n",
    "    [1,1,1,1,1,-1,1,1,1,1,1]\n",
    "])\n",
    "t = training_data[:,10]\n",
    "x = training_data[:,:10]\n",
    "print(\"Inputs : \",x)\n",
    "print(\"Required Output : \",t)"
   ]
  },
  {
   "cell_type": "code",
   "execution_count": 79,
   "metadata": {},
   "outputs": [],
   "source": [
    "# Initialising training parameters\n",
    "# bias = w[0]\n",
    "w = np.array([0.1,0.1,0.1,0.1,0.1,0.1,0.1,0.1,0.1,0.1])\n",
    "alpha = 0.1\n",
    "steps = 1"
   ]
  },
  {
   "cell_type": "code",
   "execution_count": 81,
   "metadata": {},
   "outputs": [
    {
     "name": "stdout",
     "output_type": "stream",
     "text": [
      "[-0.84 -0.28]\n",
      "(2,) None\n"
     ]
    }
   ],
   "source": [
    "error = 0\n",
    "for step in range(steps):\n",
    "    y_in = x @ w\n",
    "    print(y_in.shape,print(y_in))\n",
    "    delta = alpha * x.T @ (t-y_in)\n",
    "    error = sum((t-y_in)**2)\n",
    "    w = w + delta"
   ]
  },
  {
   "cell_type": "code",
   "execution_count": 76,
   "metadata": {},
   "outputs": [
    {
     "name": "stdout",
     "output_type": "stream",
     "text": [
      "The Error after training for 1 epochs is: \n",
      "0.6815744000000002\n"
     ]
    }
   ],
   "source": [
    "print(f\"The Error after training for {steps} epochs is: \\n{error}\")"
   ]
  },
  {
   "cell_type": "code",
   "execution_count": null,
   "metadata": {},
   "outputs": [],
   "source": []
  }
 ],
 "metadata": {
  "kernelspec": {
   "display_name": "Python 3",
   "language": "python",
   "name": "python3"
  },
  "language_info": {
   "codemirror_mode": {
    "name": "ipython",
    "version": 3
   },
   "file_extension": ".py",
   "mimetype": "text/x-python",
   "name": "python",
   "nbconvert_exporter": "python",
   "pygments_lexer": "ipython3",
   "version": "3.8.5"
  }
 },
 "nbformat": 4,
 "nbformat_minor": 4
}
