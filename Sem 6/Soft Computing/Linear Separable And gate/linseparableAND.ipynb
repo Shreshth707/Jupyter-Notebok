{
 "cells": [
  {
   "cell_type": "markdown",
   "metadata": {},
   "source": [
    "# Shreshth\n",
    "## 2018UIT2528"
   ]
  },
  {
   "cell_type": "code",
   "execution_count": 6,
   "metadata": {},
   "outputs": [],
   "source": [
    "import numpy as np\n",
    "from random import choice\n",
    "import matplotlib.pyplot as plt\n",
    "%matplotlib inline"
   ]
  },
  {
   "cell_type": "code",
   "execution_count": 7,
   "metadata": {},
   "outputs": [
    {
     "data": {
      "text/plain": [
       "[(array([ 1, -1, -1]), -1),\n",
       " (array([ 1, -1,  1]), -1),\n",
       " (array([ 1,  1, -1]), -1),\n",
       " (array([1, 1, 1]), 1)]"
      ]
     },
     "execution_count": 7,
     "metadata": {},
     "output_type": "execute_result"
    }
   ],
   "source": [
    "training_data = [(np.array([1,-1,-1]),-1),\n",
    "                (np.array([1,-1,1]),-1),\n",
    "                (np.array([1,1,-1]),-1),\n",
    "                (np.array([1,1,1]),1)]\n",
    "training_data"
   ]
  },
  {
   "cell_type": "code",
   "execution_count": 8,
   "metadata": {},
   "outputs": [],
   "source": [
    "#model parameters \n",
    "aplha = 0.2\n",
    "iterations = 100\n",
    "W = np.random.rand(3)\n",
    "activation = lambda x: -1 if x<0 else 1"
   ]
  },
  {
   "cell_type": "code",
   "execution_count": 9,
   "metadata": {},
   "outputs": [
    {
     "data": {
      "text/plain": [
       "array([-0.19432848,  0.43204764,  0.42529792])"
      ]
     },
     "execution_count": 9,
     "metadata": {},
     "output_type": "execute_result"
    }
   ],
   "source": [
    "for i in range(iterations):\n",
    "    x,y = choice(training_data)\n",
    "    predicted_y = activation(W @ x)\n",
    "    J = predicted_y - y\n",
    "    W = W - aplha * J * x\n",
    "W"
   ]
  },
  {
   "cell_type": "code",
   "execution_count": 10,
   "metadata": {},
   "outputs": [
    {
     "data": {
      "image/png": "[encoded data removed]",
      "text/plain": [
       "<Figure size 432x288 with 1 Axes>"
      ]
     },
     "metadata": {
      "needs_background": "light"
     },
     "output_type": "display_data"
    }
   ],
   "source": [
    "slope = -1 * (W[1]/W[2])\n",
    "intercept = -1 * (W[0]/W[2])\n",
    "fig, ax = plt.subplots()\n",
    "ax.set_xlim(-2, 2)\n",
    "ax.set_ylim(-2, 2)\n",
    "ax.plot(0, \"-\")\n",
    "ax.grid(True, which='both')\n",
    "ax.axhline(y=0, color='k')\n",
    "ax.axvline(x=0, color='k')\n",
    "ax.plot(-1, -1,'ko',ms=10)\n",
    "ax.plot(-1, 1, 'ko',ms=10)\n",
    "ax.plot(1, -1, 'ko',ms=10)\n",
    "ax.plot(1, 1, 'ro',ms=10)\n",
    "x_vals = np.arange(-3,3, 0.1)\n",
    "ax.plot(x_vals, (slope * x_vals + intercept), \"b-\",lw=2)\n",
    "plt.show()"
   ]
  },
  {
   "cell_type": "code",
   "execution_count": null,
   "metadata": {},
   "outputs": [],
   "source": []
  }
 ],
 "metadata": {
  "kernelspec": {
   "display_name": "Python 3",
   "language": "python",
   "name": "python3"
  },
  "language_info": {
   "codemirror_mode": {
    "name": "ipython",
    "version": 3
   },
   "file_extension": ".py",
   "mimetype": "text/x-python",
   "name": "python",
   "nbconvert_exporter": "python",
   "pygments_lexer": "ipython3",
   "version": "3.8.5"
  }
 },
 "nbformat": 4,
 "nbformat_minor": 4
}
