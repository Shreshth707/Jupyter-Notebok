{
 "cells": [
  {
   "cell_type": "markdown",
   "metadata": {},
   "source": [
    "<p style=\"font-size: 20px;\"> Shreshth<br><br>\n",
    "2018UIT2528\n",
    "</p>"
   ]
  },
  {
   "cell_type": "code",
   "execution_count": 75,
   "metadata": {},
   "outputs": [],
   "source": [
    "import numpy as np"
   ]
  },
  {
   "cell_type": "code",
   "execution_count": 93,
   "metadata": {},
   "outputs": [],
   "source": [
    "# Preparing data\n",
    "training_data = [\n",
    "    (np.array([1,-1,-1]),1),\n",
    "    (np.array([1,-1,1]),-1),\n",
    "    (np.array([1,1,-1]),-1),\n",
    "    (np.array([1,1,1]),-1)\n",
    "]"
   ]
  },
  {
   "cell_type": "code",
   "execution_count": 108,
   "metadata": {},
   "outputs": [],
   "source": [
    "# Setting training Parameters\n",
    "# bias = w[0]\n",
    "w = np.array([0,0,0])\n",
    "alpha = 1\n",
    "steps = 50\n",
    "def step_func(x):\n",
    "    if x>=0:\n",
    "        return 1\n",
    "    elif x==0:\n",
    "        return 0\n",
    "    else:\n",
    "        return -1"
   ]
  },
  {
   "cell_type": "code",
   "execution_count": 110,
   "metadata": {},
   "outputs": [
    {
     "name": "stdout",
     "output_type": "stream",
     "text": [
      "The Final Weights after training are : [-1 -1 -1]\n"
     ]
    }
   ],
   "source": [
    "# Training the Perceptron Model\n",
    "for step in range(steps):\n",
    "    for data in training_data:\n",
    "        x = data[0]\n",
    "        y = data[1]\n",
    "        y_in = step_func(w.T @ x)\n",
    "        if y_in != y: \n",
    "            w = w + alpha * x * y\n",
    "\n",
    "print('The Final Weights after training are :',w)"
   ]
  }
 ],
 "metadata": {
  "kernelspec": {
   "display_name": "Python 3",
   "language": "python",
   "name": "python3"
  },
  "language_info": {
   "codemirror_mode": {
    "name": "ipython",
    "version": 3
   },
   "file_extension": ".py",
   "mimetype": "text/x-python",
   "name": "python",
   "nbconvert_exporter": "python",
   "pygments_lexer": "ipython3",
   "version": "3.8.5"
  }
 },
 "nbformat": 4,
 "nbformat_minor": 4
}
