{
 "cells": [
  {
   "cell_type": "markdown",
   "metadata": {},
   "source": [
    "# Shreshth\n",
    "# 2018UIT2528"
   ]
  },
  {
   "cell_type": "code",
   "execution_count": 39,
   "metadata": {},
   "outputs": [],
   "source": [
    "import numpy as np\n",
    "import matplotlib.pyplot as plt\n",
    "%matplotlib inline"
   ]
  },
  {
   "cell_type": "code",
   "execution_count": 40,
   "metadata": {},
   "outputs": [
    {
     "data": {
      "text/plain": [
       "[(array([ 1, -1, -1]), 1),\n",
       " (array([ 1, -1,  1]), 1),\n",
       " (array([ 1,  1, -1]), 1),\n",
       " (array([1, 1, 1]), -1)]"
      ]
     },
     "execution_count": 40,
     "metadata": {},
     "output_type": "execute_result"
    }
   ],
   "source": [
    "#initialise parameters\n",
    "W = np.array([0,0,0])\n",
    "training_data = [(np.array([1,-1,-1]),1),\n",
    "       (np.array([1,-1,1]),1),\n",
    "       (np.array([1,1,-1]),1),\n",
    "       (np.array([1,1,1]),-1)]\n",
    "training_data"
   ]
  },
  {
   "cell_type": "code",
   "execution_count": 41,
   "metadata": {},
   "outputs": [
    {
     "data": {
      "text/plain": [
       "array([ 2, -2, -2])"
      ]
     },
     "execution_count": 41,
     "metadata": {},
     "output_type": "execute_result"
    }
   ],
   "source": [
    "for i in range(len(data)):\n",
    "    W = W + training_data[i][0] * training_data[i][1]\n",
    "W"
   ]
  },
  {
   "cell_type": "code",
   "execution_count": 42,
   "metadata": {},
   "outputs": [
    {
     "data": {
      "text/plain": [
       "[<matplotlib.lines.Line2D at 0x7effd5021b20>]"
      ]
     },
     "execution_count": 42,
     "metadata": {},
     "output_type": "execute_result"
    },
    {
     "data": {
      "image/png": "[encoded data removed]",
      "text/plain": [
       "<Figure size 432x288 with 1 Axes>"
      ]
     },
     "metadata": {
      "needs_background": "light"
     },
     "output_type": "display_data"
    }
   ],
   "source": [
    "slope = -1 * W[1]/W[2]\n",
    "intercept = -1 * W[0]/W[2]\n",
    "fig, ax = plt.subplots()\n",
    "ax.set_xlim(2,-2)\n",
    "ax.set_ylim(2,-2)\n",
    "ax.axhline(y=0, color='k')\n",
    "ax.axvline(x=0, color='k')\n",
    "ax.grid(True, which='both')\n",
    "ax.plot(-1,-1,'ro',ms='10')\n",
    "ax.plot(-1,1,'ro',ms='10')\n",
    "ax.plot(1,-1,'ro',ms='10')\n",
    "ax.plot(1,1,'ko',ms='10')\n",
    "x = np.arange(-3,3,0.1)\n",
    "y = slope * x + intercept\n",
    "ax.plot(x,y,'g-',lw=2)"
   ]
  },
  {
   "cell_type": "code",
   "execution_count": null,
   "metadata": {},
   "outputs": [],
   "source": []
  }
 ],
 "metadata": {
  "kernelspec": {
   "display_name": "Python 3",
   "language": "python",
   "name": "python3"
  },
  "language_info": {
   "codemirror_mode": {
    "name": "ipython",
    "version": 3
   },
   "file_extension": ".py",
   "mimetype": "text/x-python",
   "name": "python",
   "nbconvert_exporter": "python",
   "pygments_lexer": "ipython3",
   "version": "3.8.5"
  }
 },
 "nbformat": 4,
 "nbformat_minor": 4
}
