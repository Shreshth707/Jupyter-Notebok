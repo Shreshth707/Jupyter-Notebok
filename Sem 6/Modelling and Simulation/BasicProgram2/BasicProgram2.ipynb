{
 "cells": [
  {
   "cell_type": "markdown",
   "metadata": {},
   "source": [
    "### Shreshth\n",
    "### 2018UIT2528"
   ]
  },
  {
   "cell_type": "code",
   "execution_count": 2,
   "metadata": {},
   "outputs": [],
   "source": [
    "import numpy as np\n",
    "import pandas as pd"
   ]
  },
  {
   "cell_type": "markdown",
   "metadata": {},
   "source": [
    "###### Question 6: Write a program to access the elements at \n",
    "<ol>\n",
    "    <li> 3rd column and 2nd row</li>\n",
    "    <li> 3rd row </li>\n",
    "    <li> 4th column </li>\n",
    "</ol>"
   ]
  },
  {
   "cell_type": "code",
   "execution_count": 10,
   "metadata": {},
   "outputs": [
    {
     "name": "stdout",
     "output_type": "stream",
     "text": [
      "Part 1 -> 9\n",
      "Part 2 -> [13 14 15 16 17 18]\n",
      "Part 3 -> [ 4 10 16 22]\n"
     ]
    }
   ],
   "source": [
    "matrix = np.array([[1,2,3,4,5,6],\n",
    "                  [7,8,9,10,11,12],\n",
    "                  [13,14,15,16,17,18],\n",
    "                  [19,20,21,22,23,24]])\n",
    "print('Part 1 ->',matrix[1,2])\n",
    "print('Part 2 ->',matrix[2,:])\n",
    "print('Part 3 ->',matrix[:,3])"
   ]
  },
  {
   "cell_type": "markdown",
   "metadata": {},
   "source": [
    "###### Question 7: Write aprogram to convert a matrix to a 1 D array"
   ]
  },
  {
   "cell_type": "code",
   "execution_count": 11,
   "metadata": {},
   "outputs": [
    {
     "name": "stdout",
     "output_type": "stream",
     "text": [
      "Shape of 2D Matrix Before -> (4, 6)\n",
      "Converted Matrix -> [ 1  2  3  4  5  6  7  8  9 10 11 12 13 14 15 16 17 18 19 20 21 22 23 24]\n",
      "Shape of Converted Matrix (24,)\n"
     ]
    }
   ],
   "source": [
    "print('Shape of 2D Matrix Before ->',matrix.shape)\n",
    "matrix = matrix.reshape(matrix.shape[0] *matrix.shape[1])\n",
    "print('Converted Matrix ->',matrix)\n",
    "print('Shape of Converted Matrix',matrix.shape)"
   ]
  },
  {
   "cell_type": "markdown",
   "metadata": {},
   "source": [
    "###### Question 8: Write a program to create an empty data frame"
   ]
  },
  {
   "cell_type": "code",
   "execution_count": 12,
   "metadata": {},
   "outputs": [
    {
     "name": "stdout",
     "output_type": "stream",
     "text": [
      "Empty DataFrame\n",
      "Columns: []\n",
      "Index: []\n"
     ]
    }
   ],
   "source": [
    "df = pd.DataFrame()\n",
    "print(df)"
   ]
  },
  {
   "cell_type": "markdown",
   "metadata": {},
   "source": [
    "###### Question 9: Write a program to create a data frame from 4 given vectors"
   ]
  },
  {
   "cell_type": "code",
   "execution_count": 17,
   "metadata": {},
   "outputs": [
    {
     "name": "stdout",
     "output_type": "stream",
     "text": [
      "4 given Vectors are :\n",
      "1 -> ['Shreshth', '20', 'Indian', '0 Years']\n",
      "2 -> ['Bastista', '30', 'American', '5 Years']\n",
      "3 -> ['John', '35', 'American', '10 Years']\n",
      "4 -> ['Rock', '45', 'American', '15 Years']\n",
      "The data frame is:\n"
     ]
    },
    {
     "data": {
      "text/html": [
       "<div>\n",
       "<style scoped>\n",
       "    .dataframe tbody tr th:only-of-type {\n",
       "        vertical-align: middle;\n",
       "    }\n",
       "\n",
       "    .dataframe tbody tr th {\n",
       "        vertical-align: top;\n",
       "    }\n",
       "\n",
       "    .dataframe thead th {\n",
       "        text-align: right;\n",
       "    }\n",
       "</style>\n",
       "<table border=\"1\" class=\"dataframe\">\n",
       "  <thead>\n",
       "    <tr style=\"text-align: right;\">\n",
       "      <th></th>\n",
       "      <th>Name</th>\n",
       "      <th>Age</th>\n",
       "      <th>Nationality</th>\n",
       "      <th>Experience</th>\n",
       "    </tr>\n",
       "  </thead>\n",
       "  <tbody>\n",
       "    <tr>\n",
       "      <th>1</th>\n",
       "      <td>Shreshth</td>\n",
       "      <td>20</td>\n",
       "      <td>Indian</td>\n",
       "      <td>0 Years</td>\n",
       "    </tr>\n",
       "    <tr>\n",
       "      <th>2</th>\n",
       "      <td>Bastista</td>\n",
       "      <td>30</td>\n",
       "      <td>American</td>\n",
       "      <td>5 Years</td>\n",
       "    </tr>\n",
       "    <tr>\n",
       "      <th>3</th>\n",
       "      <td>John</td>\n",
       "      <td>35</td>\n",
       "      <td>American</td>\n",
       "      <td>10 Years</td>\n",
       "    </tr>\n",
       "    <tr>\n",
       "      <th>4</th>\n",
       "      <td>Rock</td>\n",
       "      <td>45</td>\n",
       "      <td>American</td>\n",
       "      <td>15 Years</td>\n",
       "    </tr>\n",
       "  </tbody>\n",
       "</table>\n",
       "</div>"
      ],
      "text/plain": [
       "       Name Age Nationality Experience\n",
       "1  Shreshth  20      Indian    0 Years\n",
       "2  Bastista  30    American    5 Years\n",
       "3      John  35    American   10 Years\n",
       "4      Rock  45    American   15 Years"
      ]
     },
     "execution_count": 17,
     "metadata": {},
     "output_type": "execute_result"
    }
   ],
   "source": [
    "v1 = ['Shreshth','20','Indian','0 Years']\n",
    "v2 = ['Bastista','30','American','5 Years']\n",
    "v3 = ['John','35','American','10 Years']\n",
    "v4 = ['Rock','45','American','15 Years']\n",
    "\n",
    "print('4 given Vectors are :')\n",
    "print('1 ->',v1)\n",
    "print('2 ->',v2)\n",
    "print('3 ->',v3)\n",
    "print('4 ->',v4)\n",
    "df = pd.DataFrame([v1,v2,v3,v4], columns = ['Name',\n",
    "                                            'Age',\n",
    "                                            'Nationality',\n",
    "                                           'Experience'],\n",
    "                 index=[1,2,3,4])\n",
    "print('The data frame is:')\n",
    "df"
   ]
  },
  {
   "cell_type": "markdown",
   "metadata": {},
   "source": [
    "###### Question 10: Write a program to get the structure of a data frame"
   ]
  },
  {
   "cell_type": "code",
   "execution_count": 18,
   "metadata": {},
   "outputs": [
    {
     "name": "stdout",
     "output_type": "stream",
     "text": [
      "<bound method NDFrame.describe of        Name Age Nationality Experience\n",
      "1  Shreshth  20      Indian    0 Years\n",
      "2  Bastista  30    American    5 Years\n",
      "3      John  35    American   10 Years\n",
      "4      Rock  45    American   15 Years>\n"
     ]
    }
   ],
   "source": [
    "print(df.describe)"
   ]
  }
 ],
 "metadata": {
  "kernelspec": {
   "display_name": "Python 3",
   "language": "python",
   "name": "python3"
  },
  "language_info": {
   "codemirror_mode": {
    "name": "ipython",
    "version": 3
   },
   "file_extension": ".py",
   "mimetype": "text/x-python",
   "name": "python",
   "nbconvert_exporter": "python",
   "pygments_lexer": "ipython3",
   "version": "3.8.5"
  }
 },
 "nbformat": 4,
 "nbformat_minor": 4
}
