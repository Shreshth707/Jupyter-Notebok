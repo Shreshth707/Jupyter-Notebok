{
 "cells": [
  {
   "cell_type": "markdown",
   "metadata": {},
   "source": [
    "Name: Shreshth<br>\n",
    "Roll No. 2018UIT2528"
   ]
  },
  {
   "cell_type": "markdown",
   "metadata": {},
   "source": [
    "Question 4: Assume that the test score of a college entrance exam fits a normal distribution. Furthermore, the mean test score is 72 and the standard deviation is 15.2. What is the percentage of students scoring 84 or more in the exam?"
   ]
  },
  {
   "cell_type": "code",
   "execution_count": 13,
   "metadata": {},
   "outputs": [
    {
     "name": "stdout",
     "output_type": "stream",
     "text": [
      "The Probability of students scoring 84 or above is 0.2149\n"
     ]
    }
   ],
   "source": [
    "from scipy import stats\n",
    "\n",
    "probability = stats.norm(loc=72,scale=15.2)\n",
    "print(f\"The Probability of students scoring 84 or above is {probability.sf(84):.4f}\")"
   ]
  },
  {
   "cell_type": "markdown",
   "metadata": {},
   "source": [
    "Question 5: Assume that a sample of size 9 is distributed according to the normal distribution with mean 90 and standard deviation 36. What is the 95% confidence interval around the mean for the expected value of Z?"
   ]
  },
  {
   "cell_type": "code",
   "execution_count": 16,
   "metadata": {},
   "outputs": [
    {
     "name": "stdout",
     "output_type": "stream",
     "text": [
      "The 95% Confidence Interval is: (66.48043218551935, 113.51956781448065)\n"
     ]
    }
   ],
   "source": [
    "from scipy import stats\n",
    "import numpy as np\n",
    "\n",
    "mean = 90\n",
    "std = 36\n",
    "n = 9\n",
    "sem = std/np.sqrt(9)\n",
    "\n",
    "print(f'The 95% Confidence Interval is: {stats.norm.interval(0.95,loc=mean,scale=sem)}')"
   ]
  },
  {
   "cell_type": "markdown",
   "metadata": {},
   "source": [
    "Question 6: Assume a random variable Z is distributed according to the normal distribution with mean 6 and standard deviation 4.\n",
    "What is the probability that Z takes on a value between -1 and 3?"
   ]
  },
  {
   "cell_type": "code",
   "execution_count": 17,
   "metadata": {},
   "outputs": [
    {
     "name": "stdout",
     "output_type": "stream",
     "text": [
      "Probability that z is in the range [-1,3] is: 0.1866\n"
     ]
    }
   ],
   "source": [
    "from scipy import stats\n",
    "\n",
    "probability = stats.norm(loc=6,scale=4)\n",
    "P_of_z = probability.cdf(3) - probability.cdf(-1)\n",
    "print(f'Probability that z is in the range [-1,3] is: {P_of_z:.4f}')"
   ]
  },
  {
   "cell_type": "markdown",
   "metadata": {},
   "source": [
    "Question 7: If men’s heights are normally distributed with a mean of 69 inches and a standard deviation of 2.8 inches. Find the\n",
    "probability that a randomly selected man has a height less than 75 inches."
   ]
  },
  {
   "cell_type": "code",
   "execution_count": 22,
   "metadata": {},
   "outputs": [
    {
     "name": "stdout",
     "output_type": "stream",
     "text": [
      "Probability of selecting a man at random with height less than 75 inches is: 0.9839\n"
     ]
    }
   ],
   "source": [
    "from scipy import stats\n",
    "\n",
    "probability = stats.norm(loc=69,scale=2.8)\n",
    "print(f'Probability of selecting a man at random with height less than 75 inches is: {probability.cdf(75):.4f}')"
   ]
  }
 ],
 "metadata": {
  "kernelspec": {
   "display_name": "Python 3",
   "language": "python",
   "name": "python3"
  },
  "language_info": {
   "codemirror_mode": {
    "name": "ipython",
    "version": 3
   },
   "file_extension": ".py",
   "mimetype": "text/x-python",
   "name": "python",
   "nbconvert_exporter": "python",
   "pygments_lexer": "ipython3",
   "version": "3.8.5"
  }
 },
 "nbformat": 4,
 "nbformat_minor": 4
}
