{
 "cells": [
  {
   "cell_type": "code",
   "execution_count": 4,
   "metadata": {},
   "outputs": [],
   "source": [
    "import numpy as np"
   ]
  },
  {
   "cell_type": "code",
   "execution_count": 5,
   "metadata": {},
   "outputs": [],
   "source": [
    "V = {0,1}\n",
    "img = np.array([[3,1,2,1],\n",
    "               [2,2,0,2],\n",
    "               [1,2,1,1],\n",
    "               [1,0,1,2]])"
   ]
  },
  {
   "cell_type": "code",
   "execution_count": 16,
   "metadata": {},
   "outputs": [
    {
     "name": "stdout",
     "output_type": "stream",
     "text": [
      "3\n"
     ]
    }
   ],
   "source": [
    "# N4 Neighbor Connectivity\n",
    "visited = set()\n",
    "\n",
    "def traverse(i,j):\n",
    "    visited.add((i,j))\n",
    "    if i!=0:\n",
    "        if img[i-1][j] in V and (i-1,j) not in visited:\n",
    "            traverse(i-1,j)\n",
    "    if i!=img.shape[0]-1:\n",
    "        if img[i+1][j] in V and (i+1,j) not in visited:\n",
    "            traverse(i+1,j)\n",
    "    if j!=0:\n",
    "        if img[i][j-1] in V and (i,j-1) not in visited:\n",
    "            traverse(i,j-1)\n",
    "    if j!=img.shape[1]-1:\n",
    "        if img[i][j+1] in V and (i,j+1) not in visited:\n",
    "            traverse(i,j+1)\n",
    "    \n",
    "regions = 0    \n",
    "for i in range(img.shape[0]):\n",
    "    for j in range(img.shape[1]):\n",
    "        if img[i][j] in V and (i,j) not in visited:\n",
    "            traverse(i,j)\n",
    "            regions += 1\n",
    "                \n",
    "print(regions)"
   ]
  },
  {
   "cell_type": "code",
   "execution_count": 17,
   "metadata": {},
   "outputs": [
    {
     "name": "stdout",
     "output_type": "stream",
     "text": [
      "1\n"
     ]
    }
   ],
   "source": [
    "# N8 Neighbor Connectivity\n",
    "visited = set()\n",
    "\n",
    "def traverse(i,j):\n",
    "    visited.add((i,j))\n",
    "    if i!=0:\n",
    "        if img[i-1][j] in V and (i-1,j) not in visited:\n",
    "            traverse(i-1,j)\n",
    "    if i!=img.shape[0]-1:\n",
    "        if img[i+1][j] in V and (i+1,j) not in visited:\n",
    "            traverse(i+1,j)\n",
    "    if j!=0:\n",
    "        if img[i][j-1] in V and (i,j-1) not in visited:\n",
    "            traverse(i,j-1)\n",
    "    if j!=img.shape[1]-1:\n",
    "        if img[i][j+1] in V and (i,j+1) not in visited:\n",
    "            traverse(i,j+1)\n",
    "    if i!=0 and j!=0 :\n",
    "        if img[i-1][j-1] in V and (i-1,j-1) not in visited:\n",
    "            traverse(i-1,j-1)\n",
    "    if i!=0 and j!=img.shape[1]-1 :\n",
    "        if img[i-1][j+1] in V and (i-1,j+1) not in visited:\n",
    "            traverse(i-1,j+1)\n",
    "    if i!=img.shape[0]-1 and j!=0 :\n",
    "        if img[i+1][j-1] in V and (i+1,j-1) not in visited:\n",
    "            traverse(i+1,j-1)\n",
    "    if i!=img.shape[0]-1 and j!=img.shape[1]-1:\n",
    "        if img[i+1][j+1] in V and (i+1,j+1) not in visited:\n",
    "            traverse(i+1,j+1)\n",
    "            \n",
    "regions = 0    \n",
    "for i in range(img.shape[0]):\n",
    "    for j in range(img.shape[1]):\n",
    "        if img[i][j] in V and (i,j) not in visited:\n",
    "            traverse(i,j)\n",
    "            regions += 1\n",
    "                \n",
    "print(regions) "
   ]
  },
  {
   "cell_type": "code",
   "execution_count": 9,
   "metadata": {},
   "outputs": [
    {
     "name": "stdout",
     "output_type": "stream",
     "text": [
      "1\n"
     ]
    },
    {
     "ename": "TypeError",
     "evalue": "unsupported operand type(s) for *: 'int' and 'NoneType'",
     "output_type": "error",
     "traceback": [
      "\u001b[1;31m---------------------------------------------------------------------------\u001b[0m",
      "\u001b[1;31mTypeError\u001b[0m                                 Traceback (most recent call last)",
      "\u001b[1;32m<ipython-input-9-536280fa2346>\u001b[0m in \u001b[0;36m<module>\u001b[1;34m\u001b[0m\n\u001b[0;32m     23\u001b[0m \u001b[1;33m\u001b[0m\u001b[0m\n\u001b[0;32m     24\u001b[0m \u001b[1;31m#cv2.imwrite('./output4N.jpeg', imshow_components(labels_im4C))\u001b[0m\u001b[1;33m\u001b[0m\u001b[1;33m\u001b[0m\u001b[1;33m\u001b[0m\u001b[0m\n\u001b[1;32m---> 25\u001b[1;33m \u001b[0mcv2\u001b[0m\u001b[1;33m.\u001b[0m\u001b[0mimwrite\u001b[0m\u001b[1;33m(\u001b[0m\u001b[1;34m'./output8N.jpeg'\u001b[0m\u001b[1;33m,\u001b[0m \u001b[0mimshow_components\u001b[0m\u001b[1;33m(\u001b[0m\u001b[0mlabels_im8C\u001b[0m\u001b[1;33m)\u001b[0m\u001b[1;33m)\u001b[0m\u001b[1;33m\u001b[0m\u001b[1;33m\u001b[0m\u001b[0m\n\u001b[0m",
      "\u001b[1;32m<ipython-input-9-536280fa2346>\u001b[0m in \u001b[0;36mimshow_components\u001b[1;34m(labels)\u001b[0m\n\u001b[0;32m      9\u001b[0m \u001b[1;32mdef\u001b[0m \u001b[0mimshow_components\u001b[0m\u001b[1;33m(\u001b[0m\u001b[0mlabels\u001b[0m\u001b[1;33m)\u001b[0m\u001b[1;33m:\u001b[0m\u001b[1;33m\u001b[0m\u001b[1;33m\u001b[0m\u001b[0m\n\u001b[0;32m     10\u001b[0m     \u001b[1;31m# Map component labels to hue val\u001b[0m\u001b[1;33m\u001b[0m\u001b[1;33m\u001b[0m\u001b[1;33m\u001b[0m\u001b[0m\n\u001b[1;32m---> 11\u001b[1;33m     \u001b[0mlabel_hue\u001b[0m \u001b[1;33m=\u001b[0m \u001b[0mnp\u001b[0m\u001b[1;33m.\u001b[0m\u001b[0muint8\u001b[0m\u001b[1;33m(\u001b[0m\u001b[1;36m179\u001b[0m\u001b[1;33m*\u001b[0m\u001b[0mlabels\u001b[0m\u001b[1;33m/\u001b[0m\u001b[0mnp\u001b[0m\u001b[1;33m.\u001b[0m\u001b[0mmax\u001b[0m\u001b[1;33m(\u001b[0m\u001b[0mlabels\u001b[0m\u001b[1;33m)\u001b[0m\u001b[1;33m)\u001b[0m\u001b[1;33m\u001b[0m\u001b[1;33m\u001b[0m\u001b[0m\n\u001b[0m\u001b[0;32m     12\u001b[0m     \u001b[0mblank_ch\u001b[0m \u001b[1;33m=\u001b[0m \u001b[1;36m255\u001b[0m\u001b[1;33m*\u001b[0m\u001b[0mnp\u001b[0m\u001b[1;33m.\u001b[0m\u001b[0mones_like\u001b[0m\u001b[1;33m(\u001b[0m\u001b[0mlabel_hue\u001b[0m\u001b[1;33m)\u001b[0m\u001b[1;33m\u001b[0m\u001b[1;33m\u001b[0m\u001b[0m\n\u001b[0;32m     13\u001b[0m     \u001b[0mlabeled_img\u001b[0m \u001b[1;33m=\u001b[0m \u001b[0mcv2\u001b[0m\u001b[1;33m.\u001b[0m\u001b[0mmerge\u001b[0m\u001b[1;33m(\u001b[0m\u001b[1;33m[\u001b[0m\u001b[0mlabel_hue\u001b[0m\u001b[1;33m,\u001b[0m \u001b[0mblank_ch\u001b[0m\u001b[1;33m,\u001b[0m \u001b[0mblank_ch\u001b[0m\u001b[1;33m]\u001b[0m\u001b[1;33m)\u001b[0m\u001b[1;33m\u001b[0m\u001b[1;33m\u001b[0m\u001b[0m\n",
      "\u001b[1;31mTypeError\u001b[0m: unsupported operand type(s) for *: 'int' and 'NoneType'"
     ]
    }
   ],
   "source": [
    "import cv2 as cv2\n",
    "import numpy as np\n",
    "\n",
    "img = cv2.imread('./1jpeg', 0)\n",
    "img = cv2.threshold(img, 0, 255, cv2.THRESH_BINARY)[1]  # ensure binary\n",
    "num_labels4C, labels_im4C = cv2.connectedComponents(img,connectivity=4)\n",
    "num_labels8C, labels_im8C = cv2.connectedComponents(img,connectivity=8)\n",
    "\n",
    "def imshow_components(labels):\n",
    "    # Map component labels to hue val\n",
    "    label_hue = np.uint8(179*labels/np.max(labels))\n",
    "    blank_ch = 255*np.ones_like(label_hue)\n",
    "    labeled_img = cv2.merge([label_hue, blank_ch, blank_ch])\n",
    "\n",
    "    # cvt to BGR for display\n",
    "    labeled_img = cv2.cvtColor(labeled_img, cv2.COLOR_HSV2BGR)\n",
    "\n",
    "    # set bg label to black\n",
    "    labeled_img[label_hue==0] = 0\n",
    "\n",
    "    return labeled_img\n",
    "\n",
    "cv2.imwrite('./output4N.jpeg', imshow_components(labels_im4C))\n",
    "cv2.imwrite('./output8N.jpeg', imshow_components(labels_im8C))\n"
   ]
  },
  {
   "cell_type": "code",
   "execution_count": null,
   "metadata": {},
   "outputs": [],
   "source": []
  }
 ],
 "metadata": {
  "kernelspec": {
   "display_name": "Python 3",
   "language": "python",
   "name": "python3"
  },
  "language_info": {
   "codemirror_mode": {
    "name": "ipython",
    "version": 3
   },
   "file_extension": ".py",
   "mimetype": "text/x-python",
   "name": "python",
   "nbconvert_exporter": "python",
   "pygments_lexer": "ipython3",
   "version": "3.8.5"
  }
 },
 "nbformat": 4,
 "nbformat_minor": 4
}
